{
 "cells": [
  {
   "cell_type": "code",
   "execution_count": null,
   "id": "d3c2451f",
   "metadata": {},
   "outputs": [],
   "source": [
    "import numpy as np\n",
    "import matplotlib.pyplot as plt\n",
    "from matplotlib.animation import FuncAnimation\n",
    "from IPython.display import HTML\n",
    "from matplotlib import animation"
   ]
  },
  {
   "cell_type": "code",
   "execution_count": null,
   "id": "7e84eeca",
   "metadata": {},
   "outputs": [],
   "source": [
    "data = np.loadtxt(\"./vals.dat\")\n",
    "# H0 = np.genfromtxt(\"./H0.dat\", dtype=float, delimiter=\",\")\n",
    "# H1 = np.genfromtxt(\"./H1.dat\", dtype=float, delimiter=\",\")\n",
    "# V = np.genfromtxt(\"./V.dat\", dtype=float, delimiter=\",\")\n",
    "# W = np.genfromtxt(\"./W0.dat\", dtype=float, delimiter=\",\")\n",
    "# xi = np.genfromtxt(\"./xi.dat\", dtype=float, delimiter=\",\")\n",
    "omega = data[:,0]"
   ]
  },
  {
   "cell_type": "markdown",
   "id": "a4ec6d87",
   "metadata": {},
   "source": [
    "## Code for plotting the response function"
   ]
  },
  {
   "cell_type": "code",
   "execution_count": null,
   "id": "f9c1e55b",
   "metadata": {},
   "outputs": [],
   "source": [
    "# plt.plot(data[:,0],data[:,1])\n",
    "# plt.xlabel(r'$\\Omega$')\n",
    "# plt.ylabel(r'$K_2(\\Omega)$')\n",
    "# plt.show()"
   ]
  },
  {
   "cell_type": "markdown",
   "id": "40c7a832",
   "metadata": {},
   "source": [
    "## Only uncomment the animation code if you loaded H0, H1 etc."
   ]
  },
  {
   "cell_type": "code",
   "execution_count": null,
   "id": "14c9e025",
   "metadata": {},
   "outputs": [],
   "source": [
    "# def animate(r,valstoanimate,ylabel,intv = 10,y1=-5,y2=5,x1= xi[0],x2 = xi[-1],xlabel = '$xi$',scale = False,marker=False):\n",
    "#     dt = (omega[1]-omega[0])\n",
    "#     fig,ax = plt.subplots(figsize = (6,6))\n",
    "#     if marker:\n",
    "#         ln, = ax.plot([],[],marker = 'o')\n",
    "#     else:\n",
    "#         ln, = ax.plot([],[])\n",
    "#     ax.set_xlabel(xlabel,fontsize='15')\n",
    "#     ax.set_ylabel(ylabel,fontsize = '15')\n",
    "#     ax.set_xlim(x1,x2)\n",
    "#     ax.set_ylim(y1,y2)\n",
    "#     if scale:\n",
    "#         ax.set_yscale('log')\n",
    "#     txt_title = ax.set_title('')\n",
    "#     def drawframe(j):\n",
    "#         xdata = r\n",
    "#         ydata = valstoanimate[j]\n",
    "#         ln.set_data(xdata,ydata)\n",
    "#         time = (j)\n",
    "#         txt_title = ax.set_title('Time = {time}'.format(time = str(time)))\n",
    "#         return ln,\n",
    "#     anim = animation.FuncAnimation(fig, drawframe, frames=len(valstoanimate),interval=intv, blit=True)\n",
    "\n",
    "#     return HTML(anim.to_html5_video(embed_limit=50))"
   ]
  },
  {
   "cell_type": "code",
   "execution_count": null,
   "id": "bac9d767",
   "metadata": {},
   "outputs": [],
   "source": [
    "# animate(xi,H0,\"H0\",100,y1=-10,y2=10)"
   ]
  },
  {
   "cell_type": "code",
   "execution_count": null,
   "id": "b19461b4",
   "metadata": {},
   "outputs": [],
   "source": [
    "# animate(xi,V,\"V0\",100,y1=-10,y2=10)"
   ]
  },
  {
   "cell_type": "code",
   "execution_count": null,
   "id": "ba7ba975",
   "metadata": {},
   "outputs": [],
   "source": []
  }
 ],
 "metadata": {
  "kernelspec": {
   "display_name": "Python 3 (ipykernel)",
   "language": "python",
   "name": "python3"
  },
  "language_info": {
   "codemirror_mode": {
    "name": "ipython",
    "version": 3
   },
   "file_extension": ".py",
   "mimetype": "text/x-python",
   "name": "python",
   "nbconvert_exporter": "python",
   "pygments_lexer": "ipython3",
   "version": "3.9.7"
  }
 },
 "nbformat": 4,
 "nbformat_minor": 5
}
